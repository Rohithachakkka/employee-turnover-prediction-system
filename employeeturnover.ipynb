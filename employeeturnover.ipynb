{
  "nbformat": 4,
  "nbformat_minor": 0,
  "metadata": {
    "colab": {
      "provenance": []
    },
    "kernelspec": {
      "name": "python3",
      "display_name": "Python 3"
    },
    "language_info": {
      "name": "python"
    }
  },
  "cells": [
    {
      "cell_type": "code",
      "execution_count": 1,
      "metadata": {
        "colab": {
          "base_uri": "https://localhost:8080/"
        },
        "id": "OnmRXZ3y_WYy",
        "outputId": "c2e5d416-80e8-4aaf-f54b-6b168c291aff"
      },
      "outputs": [
        {
          "output_type": "stream",
          "name": "stdout",
          "text": [
            "Best Logistic Regression Params: {'C': 10, 'solver': 'liblinear'}\n",
            "\n",
            "Logistic Regression Report:\n",
            "               precision    recall  f1-score   support\n",
            "\n",
            "           0       0.60      0.31      0.41        39\n",
            "           1       0.90      0.97      0.93       255\n",
            "\n",
            "    accuracy                           0.88       294\n",
            "   macro avg       0.75      0.64      0.67       294\n",
            "weighted avg       0.86      0.88      0.86       294\n",
            "\n",
            "Best Random Forest Params: {'max_depth': None, 'min_samples_split': 5, 'n_estimators': 200}\n",
            "\n",
            "Random Forest Report:\n",
            "               precision    recall  f1-score   support\n",
            "\n",
            "           0       0.62      0.13      0.21        39\n",
            "           1       0.88      0.99      0.93       255\n",
            "\n",
            "    accuracy                           0.87       294\n",
            "   macro avg       0.75      0.56      0.57       294\n",
            "weighted avg       0.85      0.87      0.84       294\n",
            "\n"
          ]
        }
      ],
      "source": [
        "import pandas as pd\n",
        "import numpy as np\n",
        "\n",
        "from sklearn.preprocessing import LabelEncoder, StandardScaler\n",
        "from sklearn.model_selection import train_test_split, GridSearchCV\n",
        "from sklearn.feature_selection import RFE\n",
        "\n",
        "from sklearn.ensemble import RandomForestClassifier\n",
        "from sklearn.linear_model import LogisticRegression\n",
        "\n",
        "from sklearn.metrics import classification_report, confusion_matrix\n",
        "\n",
        "df = pd.read_csv(\"/content/WA_Fn-UseC_-HR-Employee-Attrition.csv\")\n",
        "\n",
        "df['Retention'] = df['Attrition'].apply(lambda x: 0 if x == 'Yes' else 1)\n",
        "\n",
        "df.drop(['EmployeeNumber', 'EmployeeCount', 'Over18', 'StandardHours', 'Attrition'], axis=1, inplace=True)\n",
        "\n",
        "cat_cols = df.select_dtypes(include=['object']).columns\n",
        "df[cat_cols] = df[cat_cols].apply(LabelEncoder().fit_transform)\n",
        "\n",
        "X = df.drop('Retention', axis=1)\n",
        "y = df['Retention']\n",
        "\n",
        "scaler = StandardScaler()\n",
        "X_scaled = scaler.fit_transform(X)\n",
        "\n",
        "X_train, X_test, y_train, y_test = train_test_split(X_scaled, y, test_size=0.2, random_state=42)\n",
        "\n",
        "\n",
        "lr_model = LogisticRegression(max_iter=1000)\n",
        "rfe = RFE(estimator=lr_model, n_features_to_select=15)\n",
        "X_train_rfe = rfe.fit_transform(X_train, y_train)\n",
        "X_test_rfe = rfe.transform(X_test)\n",
        "\n",
        "lr_params = {\n",
        "    'C': [0.01, 0.1, 1, 10],\n",
        "    'solver': ['liblinear', 'lbfgs']\n",
        "}\n",
        "lr_grid = GridSearchCV(LogisticRegression(max_iter=1000), lr_params, cv=5)\n",
        "lr_grid.fit(X_train_rfe, y_train)\n",
        "\n",
        "print(\"Best Logistic Regression Params:\", lr_grid.best_params_)\n",
        "lr_pred = lr_grid.predict(X_test_rfe)\n",
        "print(\"\\nLogistic Regression Report:\\n\", classification_report(y_test, lr_pred))\n",
        "\n",
        "\n",
        "rf_params = {\n",
        "    'n_estimators': [100, 200],\n",
        "    'max_depth': [None, 10, 20],\n",
        "    'min_samples_split': [2, 5]\n",
        "}\n",
        "rf_grid = GridSearchCV(RandomForestClassifier(), rf_params, cv=5)\n",
        "rf_grid.fit(X_train_rfe, y_train)\n",
        "\n",
        "print(\"Best Random Forest Params:\", rf_grid.best_params_)\n",
        "rf_pred = rf_grid.predict(X_test_rfe)\n",
        "print(\"\\nRandom Forest Report:\\n\", classification_report(y_test, rf_pred))\n"
      ]
    }
  ]
}